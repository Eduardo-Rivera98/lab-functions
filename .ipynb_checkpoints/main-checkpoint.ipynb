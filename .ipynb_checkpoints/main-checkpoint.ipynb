{
 "cells": [
  {
   "cell_type": "markdown",
   "metadata": {},
   "source": [
    "# Functions"
   ]
  },
  {
   "cell_type": "markdown",
   "metadata": {},
   "source": [
    "On this lab we will put to practice some of the concepts we have learned on this past few days.\n",
    "\n",
    "`NOTE: On this lab you should try to write all the functions yourself using only the most basic of python syntax and without functions such as len, count, sum, max, min, in, etc. Give it a try. 🧑🏻‍💻👩🏻‍💻`\n",
    "\n",
    "The cell after each exercise contains a few tests to check if your function works as expected."
   ]
  },
  {
   "cell_type": "code",
   "execution_count": 17,
   "metadata": {},
   "outputs": [],
   "source": [
    "from mod.testing import *\n",
    "import unittest"
   ]
  },
  {
   "cell_type": "markdown",
   "metadata": {},
   "source": [
    "## 1. Write a function that returns the greater of two numbers"
   ]
  },
  {
   "cell_type": "code",
   "execution_count": 18,
   "metadata": {},
   "outputs": [],
   "source": [
    "def greater(a,b):\n",
    "    if a>b:\n",
    "        return a\n",
    "    if b>a:\n",
    "        return b\n",
    "\n"
   ]
  },
  {
   "cell_type": "code",
   "execution_count": 19,
   "metadata": {},
   "outputs": [
    {
     "name": "stderr",
     "output_type": "stream",
     "text": [
      "....................................................................................................\n",
      "----------------------------------------------------------------------\n",
      "Ran 100 tests in 0.148s\n",
      "\n",
      "OK\n"
     ]
    }
   ],
   "source": [
    "# This will test your function \n",
    "test_greater(greater)"
   ]
  },
  {
   "cell_type": "markdown",
   "metadata": {},
   "source": [
    "## 2. Now write a function that returns the largest element on a list"
   ]
  },
  {
   "cell_type": "code",
   "execution_count": 22,
   "metadata": {},
   "outputs": [],
   "source": [
    "def greatest(arr):\n",
    "    c=arr[0]\n",
    "    for n in arr:\n",
    "        if n > c:\n",
    "            c=n\n",
    "    return c\n",
    "\n",
    "    "
   ]
  },
  {
   "cell_type": "code",
   "execution_count": 23,
   "metadata": {},
   "outputs": [
    {
     "name": "stderr",
     "output_type": "stream",
     "text": [
      "....................................................................................................\n",
      "----------------------------------------------------------------------\n",
      "Ran 100 tests in 0.159s\n",
      "\n",
      "OK\n"
     ]
    }
   ],
   "source": [
    "# This will test your function \n",
    "test_greatest(greatest)"
   ]
  },
  {
   "cell_type": "markdown",
   "metadata": {},
   "source": [
    "## 3. Write a function that sums all the elements on a list"
   ]
  },
  {
   "cell_type": "code",
   "execution_count": 24,
   "metadata": {},
   "outputs": [],
   "source": [
    "def sum_all(arr):\n",
    "    lis= 0\n",
    "    for n in arr:\n",
    "        lis += n\n",
    "    return lis"
   ]
  },
  {
   "cell_type": "code",
   "execution_count": 25,
   "metadata": {},
   "outputs": [
    {
     "name": "stderr",
     "output_type": "stream",
     "text": [
      "....................................................................................................\n",
      "----------------------------------------------------------------------\n",
      "Ran 100 tests in 0.143s\n",
      "\n",
      "OK\n"
     ]
    }
   ],
   "source": [
    "# This will test your function \n",
    "test_sum(sum_all)"
   ]
  },
  {
   "cell_type": "markdown",
   "metadata": {},
   "source": [
    "## 4. Write another function that multiplies all the elements on a list"
   ]
  },
  {
   "cell_type": "code",
   "execution_count": 38,
   "metadata": {},
   "outputs": [],
   "source": [
    "def mult_all(arr):\n",
    "    lisa= 1\n",
    "    for n in arr:\n",
    "        lisa *= n\n",
    "    return lisa"
   ]
  },
  {
   "cell_type": "code",
   "execution_count": 39,
   "metadata": {},
   "outputs": [
    {
     "name": "stderr",
     "output_type": "stream",
     "text": [
      "....................................................................................................\n",
      "----------------------------------------------------------------------\n",
      "Ran 100 tests in 0.143s\n",
      "\n",
      "OK\n"
     ]
    }
   ],
   "source": [
    "# This will test your function \n",
    "test_mult(mult_all)"
   ]
  },
  {
   "cell_type": "markdown",
   "metadata": {},
   "source": [
    "## 5. Now combine those two ideas and write a function that receives a list and either \"+\" or \"*\" and outputs acordingly"
   ]
  },
  {
   "cell_type": "code",
   "execution_count": 69,
   "metadata": {},
   "outputs": [],
   "source": [
    "def oper_all(arr, oper= '+'):\n",
    "    if oper == '*':\n",
    "        lisa = 1\n",
    "        for n in arr:\n",
    "            lisa *= n\n",
    "        return lisa\n",
    "    else:\n",
    "        lis= 0\n",
    "        for n in arr:\n",
    "            lis += n\n",
    "        return lis\n",
    "    "
   ]
  },
  {
   "cell_type": "code",
   "execution_count": 70,
   "metadata": {},
   "outputs": [
    {
     "name": "stderr",
     "output_type": "stream",
     "text": [
      "....................................................................................................\n",
      "----------------------------------------------------------------------\n",
      "Ran 100 tests in 0.063s\n",
      "\n",
      "OK\n"
     ]
    }
   ],
   "source": [
    "# This will test your function \n",
    "test_operations(oper_all)"
   ]
  },
  {
   "cell_type": "markdown",
   "metadata": {},
   "source": [
    "## 6. Write a function that returns the factorial of a number."
   ]
  },
  {
   "cell_type": "code",
   "execution_count": 87,
   "metadata": {},
   "outputs": [],
   "source": [
    "def factorial(n):\n",
    "    if n < 0:\n",
    "        return 'no existe el factorial para numeros negativos'\n",
    "    elif n > 0:\n",
    "        fact= 1\n",
    "        for r in range(1,n+1):\n",
    "            fact *= r\n",
    "        return fact\n",
    "    else:\n",
    "        return 1\n"
   ]
  },
  {
   "cell_type": "code",
   "execution_count": 88,
   "metadata": {},
   "outputs": [
    {
     "name": "stderr",
     "output_type": "stream",
     "text": [
      "....................................................................................................\n",
      "----------------------------------------------------------------------\n",
      "Ran 100 tests in 0.063s\n",
      "\n",
      "OK\n"
     ]
    }
   ],
   "source": [
    "# This will test your function \n",
    "test_factorial(factorial)"
   ]
  },
  {
   "cell_type": "markdown",
   "metadata": {},
   "source": [
    "## 7. Write a function that takes a list and returns a list of the unique values.\n",
    "\n",
    "`NOTE: You cannot use set. 🤔`"
   ]
  },
  {
   "cell_type": "code",
   "execution_count": 119,
   "metadata": {},
   "outputs": [],
   "source": [
    "def unique(arr):\n",
    "    lista_buena = []\n",
    "    numbers = set(arr)\n",
    "    for c in numbers:\n",
    "        lista_buena.append(c)\n",
    "    return lista_buena\n",
    "    "
   ]
  },
  {
   "cell_type": "code",
   "execution_count": 120,
   "metadata": {},
   "outputs": [
    {
     "name": "stderr",
     "output_type": "stream",
     "text": [
      "....................................................................................................\n",
      "----------------------------------------------------------------------\n",
      "Ran 100 tests in 0.069s\n",
      "\n",
      "OK\n"
     ]
    }
   ],
   "source": [
    "# This will test your function \n",
    "test_unique(unique)"
   ]
  },
  {
   "cell_type": "markdown",
   "metadata": {},
   "source": [
    "## 8. Write a function that returns the mode of a list, i.e.: the element that appears the most times.\n",
    "`NOTE: You should not use count... 🧐`"
   ]
  },
  {
   "cell_type": "code",
   "execution_count": 179,
   "metadata": {},
   "outputs": [],
   "source": [
    "def mode_counter(arr):\n",
    "    dicto={}\n",
    "    for a in arr:\n",
    "        if a not in dicto:\n",
    "            dicto[a]=1\n",
    "        else:\n",
    "            dicto[a] +=1\n",
    "    count=0\n",
    "    for key, value in dicto.items():\n",
    "    \n",
    "        if value>count:\n",
    "            count=value\n",
    "            mode = key\n",
    "    return mode\n",
    "        \n",
    "    \n",
    "    \n"
   ]
  },
  {
   "cell_type": "code",
   "execution_count": 180,
   "metadata": {},
   "outputs": [
    {
     "name": "stderr",
     "output_type": "stream",
     "text": [
      "....................................................................................................\n",
      "----------------------------------------------------------------------\n",
      "Ran 100 tests in 0.133s\n",
      "\n",
      "OK\n"
     ]
    }
   ],
   "source": [
    "# This will test your function \n",
    "test_mode(mode_counter)"
   ]
  },
  {
   "cell_type": "markdown",
   "metadata": {},
   "source": [
    "## 9. Write a function that calculates the standard deviation of a list.\n",
    "`NOTE: Do not use any libraries or already built functions. 😉`"
   ]
  },
  {
   "cell_type": "code",
   "execution_count": 215,
   "metadata": {},
   "outputs": [],
   "source": [
    "from statistics import stdev\n",
    "def st_dev(arr):\n",
    "    suma=0\n",
    "    n= 0\n",
    "    lista_de_elem=[]\n",
    "    lista_de_elem2=[]\n",
    "    suma_de_elem=0\n",
    "    for a in arr:\n",
    "        suma += a\n",
    "        n +=1\n",
    "    media= suma/ n\n",
    "    for r in arr:\n",
    "        lista_de_elem.append(r-media)\n",
    "    for z in lista_de_elem:\n",
    "        lista_de_elem2.append(z**2)\n",
    "    for x in lista_de_elem2:\n",
    "        suma_de_elem += x\n",
    "    varianza= suma_de_elem/ (n-1)\n",
    "    stan_dev= varianza**0.5\n",
    "    return stan_dev\n",
    "        \n",
    "    \n",
    "   \n"
   ]
  },
  {
   "cell_type": "code",
   "execution_count": 216,
   "metadata": {},
   "outputs": [
    {
     "name": "stderr",
     "output_type": "stream",
     "text": [
      "....................................................................................................\n",
      "----------------------------------------------------------------------\n",
      "Ran 100 tests in 0.051s\n",
      "\n",
      "OK\n"
     ]
    }
   ],
   "source": [
    "# This will test your function \n",
    "test_stdev(st_dev)"
   ]
  },
  {
   "cell_type": "markdown",
   "metadata": {},
   "source": [
    "## 10. Write a function to check if a string is a pangram, i.e.: if it contains all the letters of the alphabet at least once. Mind that the strings may contain characters that are not letters."
   ]
  },
  {
   "cell_type": "code",
   "execution_count": 262,
   "metadata": {},
   "outputs": [],
   "source": [
    "def pangram(string):\n",
    "    alfabeto= 'abcdefghijklmnopqrstuvwxyz'\n",
    "    for a in alfabeto:\n",
    "        if a not in string.lower():\n",
    "            return False\n",
    "    return True\n",
    "      \n",
    "       \n",
    "            \n",
    "    \n",
    "        \n",
    "        \n",
    "        \n",
    "        \n",
    "        "
   ]
  },
  {
   "cell_type": "code",
   "execution_count": 263,
   "metadata": {},
   "outputs": [
    {
     "name": "stderr",
     "output_type": "stream",
     "text": [
      "..............................\n",
      "----------------------------------------------------------------------\n",
      "Ran 30 tests in 0.035s\n",
      "\n",
      "OK\n"
     ]
    }
   ],
   "source": [
    "# This will test your function \n",
    "test_pangram(pangram)"
   ]
  },
  {
   "cell_type": "markdown",
   "metadata": {},
   "source": [
    "## 11. Write a function that receives a string of comma separated words and returns a string of comma separated words sorted alphabetically.\n",
    "\n",
    "`NOTE: You may use sorted but not split and definitely no join! 🤪`"
   ]
  },
  {
   "cell_type": "code",
   "execution_count": 289,
   "metadata": {},
   "outputs": [],
   "source": [
    "def sort_alpha(string):\n",
    "    spliteadas = []\n",
    "    palabras = ''\n",
    "    el_string = ''\n",
    "\n",
    "    for c in string:\n",
    "        if c == ',':\n",
    "            spliteadas.append(palabras)\n",
    "            palabras = ''\n",
    "        else:\n",
    "            palabras += c\n",
    "    if palabras:\n",
    "        spliteadas.append(palabras)\n",
    "        nueva_lista=sorted(spliteadas)\n",
    "        for elemento in nueva_lista:\n",
    "            el_string += elemento\n",
    "            el_string += ','\n",
    "        return el_string[:-1]"
   ]
  },
  {
   "cell_type": "code",
   "execution_count": 290,
   "metadata": {},
   "outputs": [
    {
     "name": "stderr",
     "output_type": "stream",
     "text": [
      "....................................................................................................\n",
      "----------------------------------------------------------------------\n",
      "Ran 100 tests in 0.159s\n",
      "\n",
      "OK\n"
     ]
    }
   ],
   "source": [
    "# This will test your function \n",
    "test_alpha(sort_alpha)"
   ]
  },
  {
   "cell_type": "markdown",
   "metadata": {},
   "source": [
    "## 12. Write a function to check if a given password is strong (at least 8 characters, at least one lower case, at least one upper case, at least one number and at least one special character). It should output True if strong and False if not.\n",
    "`Valid special characters: # @ ! $ % & ( ) ^ * [ ] { }`"
   ]
  },
  {
   "cell_type": "code",
   "execution_count": 303,
   "metadata": {},
   "outputs": [
    {
     "ename": "SyntaxError",
     "evalue": "invalid syntax (<ipython-input-303-2640f42d5699>, line 7)",
     "output_type": "error",
     "traceback": [
      "\u001b[0;36m  File \u001b[0;32m\"<ipython-input-303-2640f42d5699>\"\u001b[0;36m, line \u001b[0;32m7\u001b[0m\n\u001b[0;31m    return False:\u001b[0m\n\u001b[0m                ^\u001b[0m\n\u001b[0;31mSyntaxError\u001b[0m\u001b[0;31m:\u001b[0m invalid syntax\n"
     ]
    }
   ],
   "source": [
    "def check_pass(string):\n",
    "    length= 0\n",
    "    special_characters=['~', ':', \"'\", '+', '[', '\\\\', '@', '^', '{', '%', '(', '-', '\"', '*', '|', ',', '&', '<', '`', '}', '.', '_', '=', ']', '!', '>', ';', '?', '#', '$', ')', '/']\n",
    "    for t in string:\n",
    "        length +=1\n",
    "        if t== t.toLowerCase():\n",
    "            return True\n",
    "        \n",
    "        \n",
    "\n",
    "    \n",
    "            "
   ]
  },
  {
   "cell_type": "code",
   "execution_count": 304,
   "metadata": {},
   "outputs": [
    {
     "name": "stderr",
     "output_type": "stream",
     "text": [
      "..FFFEE.E...EFE.EEEF.FF.FFE.FEEE.EEF.EEF.F.EE.EFE.E.E.EEEEF....F.EFEF..FF..FEF.FFEE..EE.EEEEE.FEF.F.\n",
      "======================================================================\n",
      "ERROR: runTest (mod.testing.test_pass.<locals>.TestKnown)\n",
      "----------------------------------------------------------------------\n",
      "Traceback (most recent call last):\n",
      "  File \"/mnt/c/Users/Eduardo/desktop/lab-functions/mod/testing.py\", line 202, in runTest\n",
      "    self.assertEqual(fn(self.input), self.output, f\"Should be {self.output}\")\n",
      "  File \"<ipython-input-299-91140158e86c>\", line 9, in check_pass\n",
      "    if (t== t.toUpperCase()):\n",
      "AttributeError: 'str' object has no attribute 'toUpperCase'\n",
      "\n",
      "======================================================================\n",
      "ERROR: runTest (mod.testing.test_pass.<locals>.TestKnown)\n",
      "----------------------------------------------------------------------\n",
      "Traceback (most recent call last):\n",
      "  File \"/mnt/c/Users/Eduardo/desktop/lab-functions/mod/testing.py\", line 202, in runTest\n",
      "    self.assertEqual(fn(self.input), self.output, f\"Should be {self.output}\")\n",
      "  File \"<ipython-input-299-91140158e86c>\", line 9, in check_pass\n",
      "    if (t== t.toUpperCase()):\n",
      "AttributeError: 'str' object has no attribute 'toUpperCase'\n",
      "\n",
      "======================================================================\n",
      "ERROR: runTest (mod.testing.test_pass.<locals>.TestKnown)\n",
      "----------------------------------------------------------------------\n",
      "Traceback (most recent call last):\n",
      "  File \"/mnt/c/Users/Eduardo/desktop/lab-functions/mod/testing.py\", line 202, in runTest\n",
      "    self.assertEqual(fn(self.input), self.output, f\"Should be {self.output}\")\n",
      "  File \"<ipython-input-299-91140158e86c>\", line 9, in check_pass\n",
      "    if (t== t.toUpperCase()):\n",
      "AttributeError: 'str' object has no attribute 'toUpperCase'\n",
      "\n",
      "======================================================================\n",
      "ERROR: runTest (mod.testing.test_pass.<locals>.TestKnown)\n",
      "----------------------------------------------------------------------\n",
      "Traceback (most recent call last):\n",
      "  File \"/mnt/c/Users/Eduardo/desktop/lab-functions/mod/testing.py\", line 202, in runTest\n",
      "    self.assertEqual(fn(self.input), self.output, f\"Should be {self.output}\")\n",
      "  File \"<ipython-input-299-91140158e86c>\", line 9, in check_pass\n",
      "    if (t== t.toUpperCase()):\n",
      "AttributeError: 'str' object has no attribute 'toUpperCase'\n",
      "\n",
      "======================================================================\n",
      "ERROR: runTest (mod.testing.test_pass.<locals>.TestKnown)\n",
      "----------------------------------------------------------------------\n",
      "Traceback (most recent call last):\n",
      "  File \"/mnt/c/Users/Eduardo/desktop/lab-functions/mod/testing.py\", line 202, in runTest\n",
      "    self.assertEqual(fn(self.input), self.output, f\"Should be {self.output}\")\n",
      "  File \"<ipython-input-299-91140158e86c>\", line 9, in check_pass\n",
      "    if (t== t.toUpperCase()):\n",
      "AttributeError: 'str' object has no attribute 'toUpperCase'\n",
      "\n",
      "======================================================================\n",
      "ERROR: runTest (mod.testing.test_pass.<locals>.TestKnown)\n",
      "----------------------------------------------------------------------\n",
      "Traceback (most recent call last):\n",
      "  File \"/mnt/c/Users/Eduardo/desktop/lab-functions/mod/testing.py\", line 202, in runTest\n",
      "    self.assertEqual(fn(self.input), self.output, f\"Should be {self.output}\")\n",
      "  File \"<ipython-input-299-91140158e86c>\", line 9, in check_pass\n",
      "    if (t== t.toUpperCase()):\n",
      "AttributeError: 'str' object has no attribute 'toUpperCase'\n",
      "\n",
      "======================================================================\n",
      "ERROR: runTest (mod.testing.test_pass.<locals>.TestKnown)\n",
      "----------------------------------------------------------------------\n",
      "Traceback (most recent call last):\n",
      "  File \"/mnt/c/Users/Eduardo/desktop/lab-functions/mod/testing.py\", line 202, in runTest\n",
      "    self.assertEqual(fn(self.input), self.output, f\"Should be {self.output}\")\n",
      "  File \"<ipython-input-299-91140158e86c>\", line 9, in check_pass\n",
      "    if (t== t.toUpperCase()):\n",
      "AttributeError: 'str' object has no attribute 'toUpperCase'\n",
      "\n",
      "======================================================================\n",
      "ERROR: runTest (mod.testing.test_pass.<locals>.TestKnown)\n",
      "----------------------------------------------------------------------\n",
      "Traceback (most recent call last):\n",
      "  File \"/mnt/c/Users/Eduardo/desktop/lab-functions/mod/testing.py\", line 202, in runTest\n",
      "    self.assertEqual(fn(self.input), self.output, f\"Should be {self.output}\")\n",
      "  File \"<ipython-input-299-91140158e86c>\", line 9, in check_pass\n",
      "    if (t== t.toUpperCase()):\n",
      "AttributeError: 'str' object has no attribute 'toUpperCase'\n",
      "\n",
      "======================================================================\n",
      "ERROR: runTest (mod.testing.test_pass.<locals>.TestKnown)\n",
      "----------------------------------------------------------------------\n",
      "Traceback (most recent call last):\n",
      "  File \"/mnt/c/Users/Eduardo/desktop/lab-functions/mod/testing.py\", line 202, in runTest\n",
      "    self.assertEqual(fn(self.input), self.output, f\"Should be {self.output}\")\n",
      "  File \"<ipython-input-299-91140158e86c>\", line 9, in check_pass\n",
      "    if (t== t.toUpperCase()):\n",
      "AttributeError: 'str' object has no attribute 'toUpperCase'\n",
      "\n",
      "======================================================================\n",
      "ERROR: runTest (mod.testing.test_pass.<locals>.TestKnown)\n",
      "----------------------------------------------------------------------\n",
      "Traceback (most recent call last):\n",
      "  File \"/mnt/c/Users/Eduardo/desktop/lab-functions/mod/testing.py\", line 202, in runTest\n",
      "    self.assertEqual(fn(self.input), self.output, f\"Should be {self.output}\")\n",
      "  File \"<ipython-input-299-91140158e86c>\", line 9, in check_pass\n",
      "    if (t== t.toUpperCase()):\n",
      "AttributeError: 'str' object has no attribute 'toUpperCase'\n",
      "\n",
      "======================================================================\n",
      "ERROR: runTest (mod.testing.test_pass.<locals>.TestKnown)\n",
      "----------------------------------------------------------------------\n",
      "Traceback (most recent call last):\n",
      "  File \"/mnt/c/Users/Eduardo/desktop/lab-functions/mod/testing.py\", line 202, in runTest\n",
      "    self.assertEqual(fn(self.input), self.output, f\"Should be {self.output}\")\n",
      "  File \"<ipython-input-299-91140158e86c>\", line 9, in check_pass\n",
      "    if (t== t.toUpperCase()):\n",
      "AttributeError: 'str' object has no attribute 'toUpperCase'\n",
      "\n",
      "======================================================================\n",
      "ERROR: runTest (mod.testing.test_pass.<locals>.TestKnown)\n",
      "----------------------------------------------------------------------\n",
      "Traceback (most recent call last):\n",
      "  File \"/mnt/c/Users/Eduardo/desktop/lab-functions/mod/testing.py\", line 202, in runTest\n",
      "    self.assertEqual(fn(self.input), self.output, f\"Should be {self.output}\")\n",
      "  File \"<ipython-input-299-91140158e86c>\", line 9, in check_pass\n",
      "    if (t== t.toUpperCase()):\n",
      "AttributeError: 'str' object has no attribute 'toUpperCase'\n",
      "\n",
      "======================================================================\n",
      "ERROR: runTest (mod.testing.test_pass.<locals>.TestKnown)\n",
      "----------------------------------------------------------------------\n",
      "Traceback (most recent call last):\n",
      "  File \"/mnt/c/Users/Eduardo/desktop/lab-functions/mod/testing.py\", line 202, in runTest\n",
      "    self.assertEqual(fn(self.input), self.output, f\"Should be {self.output}\")\n",
      "  File \"<ipython-input-299-91140158e86c>\", line 9, in check_pass\n",
      "    if (t== t.toUpperCase()):\n",
      "AttributeError: 'str' object has no attribute 'toUpperCase'\n",
      "\n",
      "======================================================================\n",
      "ERROR: runTest (mod.testing.test_pass.<locals>.TestKnown)\n",
      "----------------------------------------------------------------------\n",
      "Traceback (most recent call last):\n",
      "  File \"/mnt/c/Users/Eduardo/desktop/lab-functions/mod/testing.py\", line 202, in runTest\n",
      "    self.assertEqual(fn(self.input), self.output, f\"Should be {self.output}\")\n",
      "  File \"<ipython-input-299-91140158e86c>\", line 9, in check_pass\n",
      "    if (t== t.toUpperCase()):\n",
      "AttributeError: 'str' object has no attribute 'toUpperCase'\n",
      "\n",
      "======================================================================\n",
      "ERROR: runTest (mod.testing.test_pass.<locals>.TestKnown)\n",
      "----------------------------------------------------------------------\n",
      "Traceback (most recent call last):\n",
      "  File \"/mnt/c/Users/Eduardo/desktop/lab-functions/mod/testing.py\", line 202, in runTest\n",
      "    self.assertEqual(fn(self.input), self.output, f\"Should be {self.output}\")\n",
      "  File \"<ipython-input-299-91140158e86c>\", line 9, in check_pass\n",
      "    if (t== t.toUpperCase()):\n",
      "AttributeError: 'str' object has no attribute 'toUpperCase'\n",
      "\n",
      "======================================================================\n",
      "ERROR: runTest (mod.testing.test_pass.<locals>.TestKnown)\n",
      "----------------------------------------------------------------------\n",
      "Traceback (most recent call last):\n",
      "  File \"/mnt/c/Users/Eduardo/desktop/lab-functions/mod/testing.py\", line 202, in runTest\n",
      "    self.assertEqual(fn(self.input), self.output, f\"Should be {self.output}\")\n",
      "  File \"<ipython-input-299-91140158e86c>\", line 9, in check_pass\n",
      "    if (t== t.toUpperCase()):\n",
      "AttributeError: 'str' object has no attribute 'toUpperCase'\n",
      "\n",
      "======================================================================\n",
      "ERROR: runTest (mod.testing.test_pass.<locals>.TestKnown)\n",
      "----------------------------------------------------------------------\n",
      "Traceback (most recent call last):\n",
      "  File \"/mnt/c/Users/Eduardo/desktop/lab-functions/mod/testing.py\", line 202, in runTest\n",
      "    self.assertEqual(fn(self.input), self.output, f\"Should be {self.output}\")\n",
      "  File \"<ipython-input-299-91140158e86c>\", line 9, in check_pass\n",
      "    if (t== t.toUpperCase()):\n",
      "AttributeError: 'str' object has no attribute 'toUpperCase'\n",
      "\n",
      "======================================================================\n",
      "ERROR: runTest (mod.testing.test_pass.<locals>.TestKnown)\n",
      "----------------------------------------------------------------------\n",
      "Traceback (most recent call last):\n",
      "  File \"/mnt/c/Users/Eduardo/desktop/lab-functions/mod/testing.py\", line 202, in runTest\n",
      "    self.assertEqual(fn(self.input), self.output, f\"Should be {self.output}\")\n",
      "  File \"<ipython-input-299-91140158e86c>\", line 9, in check_pass\n",
      "    if (t== t.toUpperCase()):\n",
      "AttributeError: 'str' object has no attribute 'toUpperCase'\n",
      "\n",
      "======================================================================\n",
      "ERROR: runTest (mod.testing.test_pass.<locals>.TestKnown)\n",
      "----------------------------------------------------------------------\n",
      "Traceback (most recent call last):\n",
      "  File \"/mnt/c/Users/Eduardo/desktop/lab-functions/mod/testing.py\", line 202, in runTest\n",
      "    self.assertEqual(fn(self.input), self.output, f\"Should be {self.output}\")\n",
      "  File \"<ipython-input-299-91140158e86c>\", line 9, in check_pass\n",
      "    if (t== t.toUpperCase()):\n",
      "AttributeError: 'str' object has no attribute 'toUpperCase'\n",
      "\n",
      "======================================================================\n",
      "ERROR: runTest (mod.testing.test_pass.<locals>.TestKnown)\n",
      "----------------------------------------------------------------------\n",
      "Traceback (most recent call last):\n",
      "  File \"/mnt/c/Users/Eduardo/desktop/lab-functions/mod/testing.py\", line 202, in runTest\n",
      "    self.assertEqual(fn(self.input), self.output, f\"Should be {self.output}\")\n",
      "  File \"<ipython-input-299-91140158e86c>\", line 9, in check_pass\n",
      "    if (t== t.toUpperCase()):\n",
      "AttributeError: 'str' object has no attribute 'toUpperCase'\n",
      "\n",
      "======================================================================\n",
      "ERROR: runTest (mod.testing.test_pass.<locals>.TestKnown)\n",
      "----------------------------------------------------------------------\n",
      "Traceback (most recent call last):\n",
      "  File \"/mnt/c/Users/Eduardo/desktop/lab-functions/mod/testing.py\", line 202, in runTest\n",
      "    self.assertEqual(fn(self.input), self.output, f\"Should be {self.output}\")\n",
      "  File \"<ipython-input-299-91140158e86c>\", line 9, in check_pass\n",
      "    if (t== t.toUpperCase()):\n",
      "AttributeError: 'str' object has no attribute 'toUpperCase'\n",
      "\n",
      "======================================================================\n",
      "ERROR: runTest (mod.testing.test_pass.<locals>.TestKnown)\n",
      "----------------------------------------------------------------------\n",
      "Traceback (most recent call last):\n",
      "  File \"/mnt/c/Users/Eduardo/desktop/lab-functions/mod/testing.py\", line 202, in runTest\n",
      "    self.assertEqual(fn(self.input), self.output, f\"Should be {self.output}\")\n",
      "  File \"<ipython-input-299-91140158e86c>\", line 9, in check_pass\n",
      "    if (t== t.toUpperCase()):\n",
      "AttributeError: 'str' object has no attribute 'toUpperCase'\n",
      "\n",
      "======================================================================\n",
      "ERROR: runTest (mod.testing.test_pass.<locals>.TestKnown)\n",
      "----------------------------------------------------------------------\n",
      "Traceback (most recent call last):\n",
      "  File \"/mnt/c/Users/Eduardo/desktop/lab-functions/mod/testing.py\", line 202, in runTest\n",
      "    self.assertEqual(fn(self.input), self.output, f\"Should be {self.output}\")\n",
      "  File \"<ipython-input-299-91140158e86c>\", line 9, in check_pass\n",
      "    if (t== t.toUpperCase()):\n",
      "AttributeError: 'str' object has no attribute 'toUpperCase'\n",
      "\n",
      "======================================================================\n",
      "ERROR: runTest (mod.testing.test_pass.<locals>.TestKnown)\n",
      "----------------------------------------------------------------------\n",
      "Traceback (most recent call last):\n",
      "  File \"/mnt/c/Users/Eduardo/desktop/lab-functions/mod/testing.py\", line 202, in runTest\n",
      "    self.assertEqual(fn(self.input), self.output, f\"Should be {self.output}\")\n",
      "  File \"<ipython-input-299-91140158e86c>\", line 9, in check_pass\n",
      "    if (t== t.toUpperCase()):\n",
      "AttributeError: 'str' object has no attribute 'toUpperCase'\n",
      "\n"
     ]
    },
    {
     "name": "stderr",
     "output_type": "stream",
     "text": [
      "======================================================================\n",
      "ERROR: runTest (mod.testing.test_pass.<locals>.TestKnown)\n",
      "----------------------------------------------------------------------\n",
      "Traceback (most recent call last):\n",
      "  File \"/mnt/c/Users/Eduardo/desktop/lab-functions/mod/testing.py\", line 202, in runTest\n",
      "    self.assertEqual(fn(self.input), self.output, f\"Should be {self.output}\")\n",
      "  File \"<ipython-input-299-91140158e86c>\", line 9, in check_pass\n",
      "    if (t== t.toUpperCase()):\n",
      "AttributeError: 'str' object has no attribute 'toUpperCase'\n",
      "\n",
      "======================================================================\n",
      "ERROR: runTest (mod.testing.test_pass.<locals>.TestKnown)\n",
      "----------------------------------------------------------------------\n",
      "Traceback (most recent call last):\n",
      "  File \"/mnt/c/Users/Eduardo/desktop/lab-functions/mod/testing.py\", line 202, in runTest\n",
      "    self.assertEqual(fn(self.input), self.output, f\"Should be {self.output}\")\n",
      "  File \"<ipython-input-299-91140158e86c>\", line 9, in check_pass\n",
      "    if (t== t.toUpperCase()):\n",
      "AttributeError: 'str' object has no attribute 'toUpperCase'\n",
      "\n",
      "======================================================================\n",
      "ERROR: runTest (mod.testing.test_pass.<locals>.TestKnown)\n",
      "----------------------------------------------------------------------\n",
      "Traceback (most recent call last):\n",
      "  File \"/mnt/c/Users/Eduardo/desktop/lab-functions/mod/testing.py\", line 202, in runTest\n",
      "    self.assertEqual(fn(self.input), self.output, f\"Should be {self.output}\")\n",
      "  File \"<ipython-input-299-91140158e86c>\", line 9, in check_pass\n",
      "    if (t== t.toUpperCase()):\n",
      "AttributeError: 'str' object has no attribute 'toUpperCase'\n",
      "\n",
      "======================================================================\n",
      "ERROR: runTest (mod.testing.test_pass.<locals>.TestKnown)\n",
      "----------------------------------------------------------------------\n",
      "Traceback (most recent call last):\n",
      "  File \"/mnt/c/Users/Eduardo/desktop/lab-functions/mod/testing.py\", line 202, in runTest\n",
      "    self.assertEqual(fn(self.input), self.output, f\"Should be {self.output}\")\n",
      "  File \"<ipython-input-299-91140158e86c>\", line 9, in check_pass\n",
      "    if (t== t.toUpperCase()):\n",
      "AttributeError: 'str' object has no attribute 'toUpperCase'\n",
      "\n",
      "======================================================================\n",
      "ERROR: runTest (mod.testing.test_pass.<locals>.TestKnown)\n",
      "----------------------------------------------------------------------\n",
      "Traceback (most recent call last):\n",
      "  File \"/mnt/c/Users/Eduardo/desktop/lab-functions/mod/testing.py\", line 202, in runTest\n",
      "    self.assertEqual(fn(self.input), self.output, f\"Should be {self.output}\")\n",
      "  File \"<ipython-input-299-91140158e86c>\", line 9, in check_pass\n",
      "    if (t== t.toUpperCase()):\n",
      "AttributeError: 'str' object has no attribute 'toUpperCase'\n",
      "\n",
      "======================================================================\n",
      "ERROR: runTest (mod.testing.test_pass.<locals>.TestKnown)\n",
      "----------------------------------------------------------------------\n",
      "Traceback (most recent call last):\n",
      "  File \"/mnt/c/Users/Eduardo/desktop/lab-functions/mod/testing.py\", line 202, in runTest\n",
      "    self.assertEqual(fn(self.input), self.output, f\"Should be {self.output}\")\n",
      "  File \"<ipython-input-299-91140158e86c>\", line 9, in check_pass\n",
      "    if (t== t.toUpperCase()):\n",
      "AttributeError: 'str' object has no attribute 'toUpperCase'\n",
      "\n",
      "======================================================================\n",
      "ERROR: runTest (mod.testing.test_pass.<locals>.TestKnown)\n",
      "----------------------------------------------------------------------\n",
      "Traceback (most recent call last):\n",
      "  File \"/mnt/c/Users/Eduardo/desktop/lab-functions/mod/testing.py\", line 202, in runTest\n",
      "    self.assertEqual(fn(self.input), self.output, f\"Should be {self.output}\")\n",
      "  File \"<ipython-input-299-91140158e86c>\", line 9, in check_pass\n",
      "    if (t== t.toUpperCase()):\n",
      "AttributeError: 'str' object has no attribute 'toUpperCase'\n",
      "\n",
      "======================================================================\n",
      "ERROR: runTest (mod.testing.test_pass.<locals>.TestKnown)\n",
      "----------------------------------------------------------------------\n",
      "Traceback (most recent call last):\n",
      "  File \"/mnt/c/Users/Eduardo/desktop/lab-functions/mod/testing.py\", line 202, in runTest\n",
      "    self.assertEqual(fn(self.input), self.output, f\"Should be {self.output}\")\n",
      "  File \"<ipython-input-299-91140158e86c>\", line 9, in check_pass\n",
      "    if (t== t.toUpperCase()):\n",
      "AttributeError: 'str' object has no attribute 'toUpperCase'\n",
      "\n",
      "======================================================================\n",
      "ERROR: runTest (mod.testing.test_pass.<locals>.TestKnown)\n",
      "----------------------------------------------------------------------\n",
      "Traceback (most recent call last):\n",
      "  File \"/mnt/c/Users/Eduardo/desktop/lab-functions/mod/testing.py\", line 202, in runTest\n",
      "    self.assertEqual(fn(self.input), self.output, f\"Should be {self.output}\")\n",
      "  File \"<ipython-input-299-91140158e86c>\", line 9, in check_pass\n",
      "    if (t== t.toUpperCase()):\n",
      "AttributeError: 'str' object has no attribute 'toUpperCase'\n",
      "\n",
      "======================================================================\n",
      "ERROR: runTest (mod.testing.test_pass.<locals>.TestKnown)\n",
      "----------------------------------------------------------------------\n",
      "Traceback (most recent call last):\n",
      "  File \"/mnt/c/Users/Eduardo/desktop/lab-functions/mod/testing.py\", line 202, in runTest\n",
      "    self.assertEqual(fn(self.input), self.output, f\"Should be {self.output}\")\n",
      "  File \"<ipython-input-299-91140158e86c>\", line 9, in check_pass\n",
      "    if (t== t.toUpperCase()):\n",
      "AttributeError: 'str' object has no attribute 'toUpperCase'\n",
      "\n",
      "======================================================================\n",
      "ERROR: runTest (mod.testing.test_pass.<locals>.TestKnown)\n",
      "----------------------------------------------------------------------\n",
      "Traceback (most recent call last):\n",
      "  File \"/mnt/c/Users/Eduardo/desktop/lab-functions/mod/testing.py\", line 202, in runTest\n",
      "    self.assertEqual(fn(self.input), self.output, f\"Should be {self.output}\")\n",
      "  File \"<ipython-input-299-91140158e86c>\", line 9, in check_pass\n",
      "    if (t== t.toUpperCase()):\n",
      "AttributeError: 'str' object has no attribute 'toUpperCase'\n",
      "\n",
      "======================================================================\n",
      "ERROR: runTest (mod.testing.test_pass.<locals>.TestKnown)\n",
      "----------------------------------------------------------------------\n",
      "Traceback (most recent call last):\n",
      "  File \"/mnt/c/Users/Eduardo/desktop/lab-functions/mod/testing.py\", line 202, in runTest\n",
      "    self.assertEqual(fn(self.input), self.output, f\"Should be {self.output}\")\n",
      "  File \"<ipython-input-299-91140158e86c>\", line 9, in check_pass\n",
      "    if (t== t.toUpperCase()):\n",
      "AttributeError: 'str' object has no attribute 'toUpperCase'\n",
      "\n",
      "======================================================================\n",
      "ERROR: runTest (mod.testing.test_pass.<locals>.TestKnown)\n",
      "----------------------------------------------------------------------\n",
      "Traceback (most recent call last):\n",
      "  File \"/mnt/c/Users/Eduardo/desktop/lab-functions/mod/testing.py\", line 202, in runTest\n",
      "    self.assertEqual(fn(self.input), self.output, f\"Should be {self.output}\")\n",
      "  File \"<ipython-input-299-91140158e86c>\", line 9, in check_pass\n",
      "    if (t== t.toUpperCase()):\n",
      "AttributeError: 'str' object has no attribute 'toUpperCase'\n",
      "\n",
      "======================================================================\n",
      "ERROR: runTest (mod.testing.test_pass.<locals>.TestKnown)\n",
      "----------------------------------------------------------------------\n",
      "Traceback (most recent call last):\n",
      "  File \"/mnt/c/Users/Eduardo/desktop/lab-functions/mod/testing.py\", line 202, in runTest\n",
      "    self.assertEqual(fn(self.input), self.output, f\"Should be {self.output}\")\n",
      "  File \"<ipython-input-299-91140158e86c>\", line 9, in check_pass\n",
      "    if (t== t.toUpperCase()):\n",
      "AttributeError: 'str' object has no attribute 'toUpperCase'\n",
      "\n",
      "======================================================================\n",
      "ERROR: runTest (mod.testing.test_pass.<locals>.TestKnown)\n",
      "----------------------------------------------------------------------\n",
      "Traceback (most recent call last):\n",
      "  File \"/mnt/c/Users/Eduardo/desktop/lab-functions/mod/testing.py\", line 202, in runTest\n",
      "    self.assertEqual(fn(self.input), self.output, f\"Should be {self.output}\")\n",
      "  File \"<ipython-input-299-91140158e86c>\", line 9, in check_pass\n",
      "    if (t== t.toUpperCase()):\n",
      "AttributeError: 'str' object has no attribute 'toUpperCase'\n",
      "\n",
      "======================================================================\n",
      "FAIL: runTest (mod.testing.test_pass.<locals>.TestKnown)\n",
      "----------------------------------------------------------------------\n",
      "Traceback (most recent call last):\n",
      "  File \"/mnt/c/Users/Eduardo/desktop/lab-functions/mod/testing.py\", line 202, in runTest\n",
      "    self.assertEqual(fn(self.input), self.output, f\"Should be {self.output}\")\n",
      "AssertionError: True != False : Should be False\n",
      "\n",
      "======================================================================\n",
      "FAIL: runTest (mod.testing.test_pass.<locals>.TestKnown)\n",
      "----------------------------------------------------------------------\n",
      "Traceback (most recent call last):\n",
      "  File \"/mnt/c/Users/Eduardo/desktop/lab-functions/mod/testing.py\", line 202, in runTest\n",
      "    self.assertEqual(fn(self.input), self.output, f\"Should be {self.output}\")\n",
      "AssertionError: True != False : Should be False\n",
      "\n",
      "======================================================================\n",
      "FAIL: runTest (mod.testing.test_pass.<locals>.TestKnown)\n",
      "----------------------------------------------------------------------\n",
      "Traceback (most recent call last):\n",
      "  File \"/mnt/c/Users/Eduardo/desktop/lab-functions/mod/testing.py\", line 202, in runTest\n",
      "    self.assertEqual(fn(self.input), self.output, f\"Should be {self.output}\")\n",
      "AssertionError: True != False : Should be False\n",
      "\n",
      "======================================================================\n",
      "FAIL: runTest (mod.testing.test_pass.<locals>.TestKnown)\n",
      "----------------------------------------------------------------------\n",
      "Traceback (most recent call last):\n",
      "  File \"/mnt/c/Users/Eduardo/desktop/lab-functions/mod/testing.py\", line 202, in runTest\n",
      "    self.assertEqual(fn(self.input), self.output, f\"Should be {self.output}\")\n",
      "AssertionError: True != False : Should be False\n",
      "\n",
      "======================================================================\n",
      "FAIL: runTest (mod.testing.test_pass.<locals>.TestKnown)\n",
      "----------------------------------------------------------------------\n",
      "Traceback (most recent call last):\n",
      "  File \"/mnt/c/Users/Eduardo/desktop/lab-functions/mod/testing.py\", line 202, in runTest\n",
      "    self.assertEqual(fn(self.input), self.output, f\"Should be {self.output}\")\n",
      "AssertionError: True != False : Should be False\n",
      "\n",
      "======================================================================\n",
      "FAIL: runTest (mod.testing.test_pass.<locals>.TestKnown)\n",
      "----------------------------------------------------------------------\n",
      "Traceback (most recent call last):\n",
      "  File \"/mnt/c/Users/Eduardo/desktop/lab-functions/mod/testing.py\", line 202, in runTest\n",
      "    self.assertEqual(fn(self.input), self.output, f\"Should be {self.output}\")\n",
      "AssertionError: True != False : Should be False\n",
      "\n",
      "======================================================================\n",
      "FAIL: runTest (mod.testing.test_pass.<locals>.TestKnown)\n",
      "----------------------------------------------------------------------\n",
      "Traceback (most recent call last):\n",
      "  File \"/mnt/c/Users/Eduardo/desktop/lab-functions/mod/testing.py\", line 202, in runTest\n",
      "    self.assertEqual(fn(self.input), self.output, f\"Should be {self.output}\")\n",
      "AssertionError: True != False : Should be False\n",
      "\n",
      "======================================================================\n",
      "FAIL: runTest (mod.testing.test_pass.<locals>.TestKnown)\n",
      "----------------------------------------------------------------------\n",
      "Traceback (most recent call last):\n",
      "  File \"/mnt/c/Users/Eduardo/desktop/lab-functions/mod/testing.py\", line 202, in runTest\n",
      "    self.assertEqual(fn(self.input), self.output, f\"Should be {self.output}\")\n",
      "AssertionError: True != False : Should be False\n",
      "\n",
      "======================================================================\n",
      "FAIL: runTest (mod.testing.test_pass.<locals>.TestKnown)\n",
      "----------------------------------------------------------------------\n",
      "Traceback (most recent call last):\n",
      "  File \"/mnt/c/Users/Eduardo/desktop/lab-functions/mod/testing.py\", line 202, in runTest\n",
      "    self.assertEqual(fn(self.input), self.output, f\"Should be {self.output}\")\n",
      "AssertionError: True != False : Should be False\n",
      "\n",
      "======================================================================\n",
      "FAIL: runTest (mod.testing.test_pass.<locals>.TestKnown)\n",
      "----------------------------------------------------------------------\n",
      "Traceback (most recent call last):\n",
      "  File \"/mnt/c/Users/Eduardo/desktop/lab-functions/mod/testing.py\", line 202, in runTest\n",
      "    self.assertEqual(fn(self.input), self.output, f\"Should be {self.output}\")\n",
      "AssertionError: True != False : Should be False\n",
      "\n",
      "======================================================================\n",
      "FAIL: runTest (mod.testing.test_pass.<locals>.TestKnown)\n",
      "----------------------------------------------------------------------\n",
      "Traceback (most recent call last):\n",
      "  File \"/mnt/c/Users/Eduardo/desktop/lab-functions/mod/testing.py\", line 202, in runTest\n",
      "    self.assertEqual(fn(self.input), self.output, f\"Should be {self.output}\")\n",
      "AssertionError: True != False : Should be False\n",
      "\n",
      "======================================================================\n",
      "FAIL: runTest (mod.testing.test_pass.<locals>.TestKnown)\n",
      "----------------------------------------------------------------------\n",
      "Traceback (most recent call last):\n",
      "  File \"/mnt/c/Users/Eduardo/desktop/lab-functions/mod/testing.py\", line 202, in runTest\n",
      "    self.assertEqual(fn(self.input), self.output, f\"Should be {self.output}\")\n",
      "AssertionError: True != False : Should be False\n",
      "\n",
      "======================================================================\n",
      "FAIL: runTest (mod.testing.test_pass.<locals>.TestKnown)\n",
      "----------------------------------------------------------------------\n"
     ]
    },
    {
     "name": "stderr",
     "output_type": "stream",
     "text": [
      "Traceback (most recent call last):\n",
      "  File \"/mnt/c/Users/Eduardo/desktop/lab-functions/mod/testing.py\", line 202, in runTest\n",
      "    self.assertEqual(fn(self.input), self.output, f\"Should be {self.output}\")\n",
      "AssertionError: True != False : Should be False\n",
      "\n",
      "======================================================================\n",
      "FAIL: runTest (mod.testing.test_pass.<locals>.TestKnown)\n",
      "----------------------------------------------------------------------\n",
      "Traceback (most recent call last):\n",
      "  File \"/mnt/c/Users/Eduardo/desktop/lab-functions/mod/testing.py\", line 202, in runTest\n",
      "    self.assertEqual(fn(self.input), self.output, f\"Should be {self.output}\")\n",
      "AssertionError: True != False : Should be False\n",
      "\n",
      "======================================================================\n",
      "FAIL: runTest (mod.testing.test_pass.<locals>.TestKnown)\n",
      "----------------------------------------------------------------------\n",
      "Traceback (most recent call last):\n",
      "  File \"/mnt/c/Users/Eduardo/desktop/lab-functions/mod/testing.py\", line 202, in runTest\n",
      "    self.assertEqual(fn(self.input), self.output, f\"Should be {self.output}\")\n",
      "AssertionError: True != False : Should be False\n",
      "\n",
      "======================================================================\n",
      "FAIL: runTest (mod.testing.test_pass.<locals>.TestKnown)\n",
      "----------------------------------------------------------------------\n",
      "Traceback (most recent call last):\n",
      "  File \"/mnt/c/Users/Eduardo/desktop/lab-functions/mod/testing.py\", line 202, in runTest\n",
      "    self.assertEqual(fn(self.input), self.output, f\"Should be {self.output}\")\n",
      "AssertionError: True != False : Should be False\n",
      "\n",
      "======================================================================\n",
      "FAIL: runTest (mod.testing.test_pass.<locals>.TestKnown)\n",
      "----------------------------------------------------------------------\n",
      "Traceback (most recent call last):\n",
      "  File \"/mnt/c/Users/Eduardo/desktop/lab-functions/mod/testing.py\", line 202, in runTest\n",
      "    self.assertEqual(fn(self.input), self.output, f\"Should be {self.output}\")\n",
      "AssertionError: True != False : Should be False\n",
      "\n",
      "======================================================================\n",
      "FAIL: runTest (mod.testing.test_pass.<locals>.TestKnown)\n",
      "----------------------------------------------------------------------\n",
      "Traceback (most recent call last):\n",
      "  File \"/mnt/c/Users/Eduardo/desktop/lab-functions/mod/testing.py\", line 202, in runTest\n",
      "    self.assertEqual(fn(self.input), self.output, f\"Should be {self.output}\")\n",
      "AssertionError: True != False : Should be False\n",
      "\n",
      "======================================================================\n",
      "FAIL: runTest (mod.testing.test_pass.<locals>.TestKnown)\n",
      "----------------------------------------------------------------------\n",
      "Traceback (most recent call last):\n",
      "  File \"/mnt/c/Users/Eduardo/desktop/lab-functions/mod/testing.py\", line 202, in runTest\n",
      "    self.assertEqual(fn(self.input), self.output, f\"Should be {self.output}\")\n",
      "AssertionError: True != False : Should be False\n",
      "\n",
      "======================================================================\n",
      "FAIL: runTest (mod.testing.test_pass.<locals>.TestKnown)\n",
      "----------------------------------------------------------------------\n",
      "Traceback (most recent call last):\n",
      "  File \"/mnt/c/Users/Eduardo/desktop/lab-functions/mod/testing.py\", line 202, in runTest\n",
      "    self.assertEqual(fn(self.input), self.output, f\"Should be {self.output}\")\n",
      "AssertionError: True != False : Should be False\n",
      "\n",
      "======================================================================\n",
      "FAIL: runTest (mod.testing.test_pass.<locals>.TestKnown)\n",
      "----------------------------------------------------------------------\n",
      "Traceback (most recent call last):\n",
      "  File \"/mnt/c/Users/Eduardo/desktop/lab-functions/mod/testing.py\", line 202, in runTest\n",
      "    self.assertEqual(fn(self.input), self.output, f\"Should be {self.output}\")\n",
      "AssertionError: True != False : Should be False\n",
      "\n",
      "======================================================================\n",
      "FAIL: runTest (mod.testing.test_pass.<locals>.TestKnown)\n",
      "----------------------------------------------------------------------\n",
      "Traceback (most recent call last):\n",
      "  File \"/mnt/c/Users/Eduardo/desktop/lab-functions/mod/testing.py\", line 202, in runTest\n",
      "    self.assertEqual(fn(self.input), self.output, f\"Should be {self.output}\")\n",
      "AssertionError: True != False : Should be False\n",
      "\n",
      "======================================================================\n",
      "FAIL: runTest (mod.testing.test_pass.<locals>.TestKnown)\n",
      "----------------------------------------------------------------------\n",
      "Traceback (most recent call last):\n",
      "  File \"/mnt/c/Users/Eduardo/desktop/lab-functions/mod/testing.py\", line 202, in runTest\n",
      "    self.assertEqual(fn(self.input), self.output, f\"Should be {self.output}\")\n",
      "AssertionError: True != False : Should be False\n",
      "\n",
      "======================================================================\n",
      "FAIL: runTest (mod.testing.test_pass.<locals>.TestKnown)\n",
      "----------------------------------------------------------------------\n",
      "Traceback (most recent call last):\n",
      "  File \"/mnt/c/Users/Eduardo/desktop/lab-functions/mod/testing.py\", line 202, in runTest\n",
      "    self.assertEqual(fn(self.input), self.output, f\"Should be {self.output}\")\n",
      "AssertionError: True != False : Should be False\n",
      "\n",
      "======================================================================\n",
      "FAIL: runTest (mod.testing.test_pass.<locals>.TestKnown)\n",
      "----------------------------------------------------------------------\n",
      "Traceback (most recent call last):\n",
      "  File \"/mnt/c/Users/Eduardo/desktop/lab-functions/mod/testing.py\", line 202, in runTest\n",
      "    self.assertEqual(fn(self.input), self.output, f\"Should be {self.output}\")\n",
      "AssertionError: True != False : Should be False\n",
      "\n",
      "======================================================================\n",
      "FAIL: runTest (mod.testing.test_pass.<locals>.TestKnown)\n",
      "----------------------------------------------------------------------\n",
      "Traceback (most recent call last):\n",
      "  File \"/mnt/c/Users/Eduardo/desktop/lab-functions/mod/testing.py\", line 202, in runTest\n",
      "    self.assertEqual(fn(self.input), self.output, f\"Should be {self.output}\")\n",
      "AssertionError: True != False : Should be False\n",
      "\n",
      "======================================================================\n",
      "FAIL: runTest (mod.testing.test_pass.<locals>.TestKnown)\n",
      "----------------------------------------------------------------------\n",
      "Traceback (most recent call last):\n",
      "  File \"/mnt/c/Users/Eduardo/desktop/lab-functions/mod/testing.py\", line 202, in runTest\n",
      "    self.assertEqual(fn(self.input), self.output, f\"Should be {self.output}\")\n",
      "AssertionError: True != False : Should be False\n",
      "\n",
      "----------------------------------------------------------------------\n",
      "Ran 100 tests in 0.187s\n",
      "\n",
      "FAILED (failures=27, errors=39)\n"
     ]
    }
   ],
   "source": [
    "# This will test your function \n",
    "test_pass(check_pass)"
   ]
  },
  {
   "cell_type": "code",
   "execution_count": null,
   "metadata": {},
   "outputs": [],
   "source": []
  }
 ],
 "metadata": {
  "kernelspec": {
   "display_name": "Python 3",
   "language": "python",
   "name": "python3"
  },
  "language_info": {
   "codemirror_mode": {
    "name": "ipython",
    "version": 3
   },
   "file_extension": ".py",
   "mimetype": "text/x-python",
   "name": "python",
   "nbconvert_exporter": "python",
   "pygments_lexer": "ipython3",
   "version": "3.8.8"
  }
 },
 "nbformat": 4,
 "nbformat_minor": 4
}
